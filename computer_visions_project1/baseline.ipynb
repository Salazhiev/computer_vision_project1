{
 "cells": [
  {
   "cell_type": "code",
   "execution_count": 17,
   "id": "5a51c59e",
   "metadata": {},
   "outputs": [
    {
     "name": "stdout",
     "output_type": "stream",
     "text": [
      "Requirement already satisfied: opencv-python in c:\\users\\expert\\appdata\\local\\programs\\python\\python311\\lib\\site-packages (4.10.0.84)\n",
      "Requirement already satisfied: numpy>=1.21.2 in c:\\users\\expert\\appdata\\local\\programs\\python\\python311\\lib\\site-packages (from opencv-python) (2.0.1)\n",
      "Note: you may need to restart the kernel to use updated packages.\n"
     ]
    },
    {
     "name": "stderr",
     "output_type": "stream",
     "text": [
      "\n",
      "[notice] A new release of pip available: 22.3.1 -> 24.1.2\n",
      "[notice] To update, run: python.exe -m pip install --upgrade pip\n"
     ]
    }
   ],
   "source": [
    "pip install opencv-python"
   ]
  },
  {
   "cell_type": "code",
   "execution_count": 18,
   "id": "5072cd48-60a3-400e-9ce9-4983af96a67c",
   "metadata": {},
   "outputs": [],
   "source": [
    "import cv2\n",
    "import numpy as np\n",
    "import os"
   ]
  },
  {
   "cell_type": "code",
   "execution_count": 19,
   "id": "b40cbd1c-cfa9-491a-8b42-7e18473e9f15",
   "metadata": {},
   "outputs": [],
   "source": [
    "# Функция для нахождения нужной карты.\n",
    "def find_features(img1):\n",
    "    correct_matches_dct = {}\n",
    "    directory = 'images'\n",
    "    array = os.listdir(directory)[1:]\n",
    "    for image in array:\n",
    "\n",
    "        # Импортируем необходимое фото\n",
    "        img2 = cv2.imread(directory+'//'+image, 0)\n",
    "\n",
    "        # Для обнаружения ключевых точек используется алгоритм ORB\n",
    "        # Инициализация алгоритма\n",
    "        orb = cv2.SIFT_create()\n",
    "\n",
    "        # Мы находим ключевые точки и дискрипторы(которые кодируют интересную информацию в ряд чисел)\n",
    "        # для эталонной карты и для карты, которую мы вырезали из главного изображения.\n",
    "        kp1, des1 = orb.detectAndCompute(img1, None)\n",
    "        kp2, des2 = orb.detectAndCompute(img2, None)\n",
    "\n",
    "        # Рисование ключевых точек на изображениях\n",
    "        img1_with_keypoints = cv2.drawKeypoints(img1, kp1, None, flags=cv2.DRAW_MATCHES_FLAGS_DRAW_RICH_KEYPOINTS)\n",
    "        img2_with_keypoints = cv2.drawKeypoints(img2, kp2, None, flags=cv2.DRAW_MATCHES_FLAGS_DRAW_RICH_KEYPOINTS)\n",
    "\n",
    "\n",
    "        \n",
    "        bf = cv2.BFMatcher()\n",
    "        matches = bf.knnMatch(des1, des2, k=2)\n",
    "    \n",
    "        \n",
    "        \n",
    "        correct_matches = []\n",
    "        for m, n in matches:\n",
    "            if m.distance < 0.75*n.distance:\n",
    "                correct_matches.append([m])\n",
    "                correct_matches_dct[image.split('.')[0]] = len(correct_matches)\n",
    "                # Визуализация совпадений\n",
    "\n",
    "        # if len(correct_matches)==0:\n",
    "        #     continue\n",
    "        # for_draw_matches = [val[0] for val in correct_matches]\n",
    "        # img_matches = cv2.drawMatches(img1, kp1, img2, kp2, for_draw_matches, None, flags=cv2.DrawMatchesFlags_NOT_DRAW_SINGLE_POINTS)\n",
    "\n",
    "        \n",
    "        # img1_with_keypoints = cv2.resize(img1_with_keypoints,\\\n",
    "        #                                  (img1_with_keypoints.shape[1]//2,\\\n",
    "        #                                   img1_with_keypoints.shape[0]//2))\n",
    "        # img2_with_keypoints = cv2.resize(img2_with_keypoints, \\\n",
    "        #                                 (img2_with_keypoints.shape[1]//2,\\\n",
    "        #                                 img2_with_keypoints.shape[0]//2))\n",
    "        # img_matches = cv2.resize(img_matches,\\\n",
    "        #                          (img_matches.shape[1]//2,\\\n",
    "        #                          img_matches.shape[0]//2))\n",
    "\n",
    "        \n",
    "        # cv2.imshow('keypoints1', img1_with_keypoints)\n",
    "        # cv2.imshow('keypoints2', img2_with_keypoints)\n",
    "        # cv2.imshow('draw mathces', img_matches)\n",
    "        # cv2.waitKey(0)\n",
    "\n",
    "    # Соритируем так по количеству дитекторов вроде\n",
    "    correct_matches_dct = dict(sorted(correct_matches_dct.items(), key=lambda item: item[1], reverse=True))\n",
    "\n",
    "    # Возращаем нулевое, из индексса\n",
    "    return list(correct_matches_dct.keys())[0]"
   ]
  },
  {
   "cell_type": "code",
   "execution_count": 20,
   "id": "5b7b7a16-eebd-4ad4-bd41-8943761ec3d3",
   "metadata": {},
   "outputs": [],
   "source": [
    "# Функция для нахождения контуров карт\n",
    "def find_contours_of_cards(image):\n",
    "\n",
    "    blurred = cv2.GaussianBlur(image, (3, 3), 0)\n",
    "    T, thresh_img = cv2.threshold(blurred, 215, 255, \n",
    "                                  cv2.THRESH_BINARY)\n",
    "\n",
    "    # Поиск контуров осуществляется с помощью метода findContours(), где в качестве первого\n",
    "    # аргумента эта функция принимает изображение, вторым — это тип контуров, который мы хотим извлечь.\n",
    "    # Я использую cv2.RETR_EXTERNAL для извлечения только внешних контуров. К примеру, для того,\n",
    "    # чтобы извлечь все контуры используют cv2.RETR_LIST, а последний параметром мы указываем метод аппроксимации контура.\n",
    "    # Мы используем cv2.CHAIN_APPROX_SIMPLE, указывая на то, что все лишние точки будут удалены, тем самым экономя память.\n",
    "    # Например, если вы нашли контур прямой линии, то разве вам нужны все точки этой линии, чтобы представить эту линию? Нет,\n",
    "    # нам нужны только две конечные точки этой линии. Это как раз то, что и делает cv2.CHAIN_APPROX_SIMPLE.\n",
    "    cnts, hir = cv2.findContours(thresh_img, \n",
    "                                cv2.RETR_EXTERNAL,\n",
    "                                cv2.CHAIN_APPROX_SIMPLE)\n",
    "    return cnts"
   ]
  },
  {
   "cell_type": "code",
   "execution_count": 21,
   "id": "2506fa61-6507-4fe6-8dfa-113c6f7609e4",
   "metadata": {},
   "outputs": [],
   "source": [
    "# Данная функция принимает контуры, которые мы нашли в предыдущей функции, а также основное изображение в оттенках серого.\n",
    "def find_coordinates_of_cards(cnts, image):\n",
    "    # Словарь в котором будут: ключ - название. значений - координаты\n",
    "    cards_coordinates = {}\n",
    "    \n",
    "    for i in range(0, len(cnts)):\n",
    "        # boundingRect - берет коориднаты контура и выдает прямоугольник который описывает эти контуры.\n",
    "        x, y, w, h = cv2.boundingRect(cnts[i]) \n",
    "\n",
    "        # Исключаем ненужные контуры, так как нам нужна контуры площадь которых не близка к нулю условно.\n",
    "        if w > 20 and h > 30: \n",
    "            # Выбираем необходимый нам прямоугольник, в котором будет место нужной нам карты\n",
    "            img_crop = image[y - 15:y + h + 15,x - 15:x + w + 15]\n",
    "\n",
    "            # Наша функция find_features которая опираясь на ключевые точки, возвращает нам название вырезанной карты.\n",
    "            cards_name = find_features(img_crop)# [2:]\n",
    "\n",
    "            # После этого добавляем всё в словарь.\n",
    "            cards_coordinates[cards_name] = (x - 15, y - 15, x + w + 15, y + h + 15)\n",
    "\n",
    "    # Соотвественно возращаем словарь\n",
    "    return cards_coordinates"
   ]
  },
  {
   "cell_type": "code",
   "execution_count": 22,
   "id": "e682d462-b8cf-4935-bf7c-2113fe4f647a",
   "metadata": {},
   "outputs": [],
   "source": [
    "# И вслед за этим рисуем прямоугольник вокруг карты с помощью функции\n",
    "def draw_rectangle_aroud_cards(cards_coordinates, image):\n",
    "    for key, value in cards_coordinates.items():\n",
    "        rec = cv2.rectangle(image, (value[0], value[1]), \n",
    "                            (value[2], value[3]), \n",
    "                            (255, 255, 0), 2)\n",
    "        cv2.putText(rec, key, (value[0], value[1] - 10), \n",
    "                    cv2.FONT_HERSHEY_SIMPLEX, \n",
    "                    0.5, (36, 255, 12), 1)\n",
    "    # return image\n",
    "    cv2.imshow('Image', image)\n",
    "    cv2.waitKey(0)"
   ]
  },
  {
   "cell_type": "code",
   "execution_count": 23,
   "id": "5ba00388-2ede-439b-8aec-b62f1fbeeadb",
   "metadata": {
    "scrolled": true
   },
   "outputs": [],
   "source": [
    "main_image = cv2.imread('image_for_predict_model1.jpg')\n",
    "\n",
    "# Меняем его цветовую палитру\n",
    "gray_main_image = cv2.cvtColor(main_image, cv2.COLOR_BGR2GRAY)\n",
    "\n",
    "# Находим конутры и возращаем их\n",
    "contours = find_contours_of_cards(gray_main_image)\n",
    "\n",
    "# Нахождение название карты\n",
    "cards_location = find_coordinates_of_cards(contours, gray_main_image)\n",
    "\n",
    "# Рисование вокруг карты его название прямоугольника\n",
    "draw_rectangle_aroud_cards(cards_location, main_image)"
   ]
  },
  {
   "cell_type": "code",
   "execution_count": null,
   "id": "9b191afd-1d80-4c03-9081-beb2dd72a87f",
   "metadata": {},
   "outputs": [],
   "source": []
  }
 ],
 "metadata": {
  "kernelspec": {
   "display_name": "Python 3 (ipykernel)",
   "language": "python",
   "name": "python3"
  },
  "language_info": {
   "codemirror_mode": {
    "name": "ipython",
    "version": 3
   },
   "file_extension": ".py",
   "mimetype": "text/x-python",
   "name": "python",
   "nbconvert_exporter": "python",
   "pygments_lexer": "ipython3",
   "version": "3.11.1"
  }
 },
 "nbformat": 4,
 "nbformat_minor": 5
}
