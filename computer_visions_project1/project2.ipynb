{
 "cells": [
  {
   "cell_type": "code",
   "execution_count": 1,
   "id": "5072cd48-60a3-400e-9ce9-4983af96a67c",
   "metadata": {},
   "outputs": [],
   "source": [
    "import cv2\n",
    "import numpy as np\n",
    "import os"
   ]
  },
  {
   "cell_type": "code",
   "execution_count": 2,
   "id": "eb1abe5b-4f0e-45cd-a2f9-ca082f3d26ed",
   "metadata": {},
   "outputs": [],
   "source": [
    "# cap = cv2.VideoCapture('images//IMG_0189.mp4')\n",
    "\n",
    "# while 1:\n",
    "#     success, image = cap.read()\n",
    "#     if success==False:\n",
    "#         print(0)\n",
    "#         break\n",
    "#     # Меняем его цветовую палитру\n",
    "#     gray_main_image = cv2.cvtColor(image, cv2.COLOR_BGR2GRAY)\n",
    "    \n",
    "#     # Находим конутры и возращаем их\n",
    "#     contours = find_contours_of_cards(gray_main_image)\n",
    "    \n",
    "#     # Нахождение название карты\n",
    "#     cards_location = find_coordinates_of_cards(contours, gray_main_image)\n",
    "    \n",
    "#     # Рисование вокруг карты его название прямоугольника\n",
    "#     result_image = draw_rectangle_aroud_cards(cards_location, image)\n",
    "\n",
    "#     cv2.imshow('Isa', result_image)\n",
    "\n",
    "#     if cv2.waitKey(1) and 0xFF == ord('q'):\n",
    "#         break"
   ]
  },
  {
   "cell_type": "code",
   "execution_count": 3,
   "id": "b40cbd1c-cfa9-491a-8b42-7e18473e9f15",
   "metadata": {},
   "outputs": [],
   "source": [
    "# Функция для нахождения нужной карты.\n",
    "def find_features(img1):\n",
    "    correct_matches_dct = {}\n",
    "    directory = 'images//data_project2'\n",
    "    array = os.listdir(directory)[1:]\n",
    "    for image in array:\n",
    "\n",
    "        # Импортируем необходимое фото\n",
    "        img2 = cv2.imread(directory+'//'+image, 0)\n",
    "\n",
    "        # Для обнаружения ключевых точек используется алгоритм ORB\n",
    "        # Инициализация алгоритма\n",
    "        orb = cv2.SIFT_create()\n",
    "\n",
    "        # Мы находим ключевые точки и дискрипторы(которые кодируют интересную информацию в ряд чисел)\n",
    "        # для эталонной карты и для карты, которую мы вырезали из главного изображения.\n",
    "        kp1, des1 = orb.detectAndCompute(img1, None)\n",
    "        kp2, des2 = orb.detectAndCompute(img2, None)\n",
    "\n",
    "        # Рисование ключевых точек на изображениях\n",
    "        img1_with_keypoints = cv2.drawKeypoints(img1, kp1, None, flags=cv2.DRAW_MATCHES_FLAGS_DRAW_RICH_KEYPOINTS)\n",
    "        img2_with_keypoints = cv2.drawKeypoints(img2, kp2, None, flags=cv2.DRAW_MATCHES_FLAGS_DRAW_RICH_KEYPOINTS)\n",
    "\n",
    "\n",
    "        \n",
    "        bf = cv2.BFMatcher()\n",
    "        matches = bf.knnMatch(des1, des2, k=2)\n",
    "    \n",
    "        \n",
    "        \n",
    "        correct_matches = []\n",
    "        for m, n in matches:\n",
    "            if m.distance < 0.75*n.distance:\n",
    "                correct_matches.append([m])\n",
    "                correct_matches_dct[image.split('.')[0]] = len(correct_matches)\n",
    "                # Визуализация совпадений\n",
    "\n",
    "        # if len(correct_matches)==0:\n",
    "        #     continue\n",
    "        # for_draw_matches = [val[0] for val in correct_matches]\n",
    "        # img_matches = cv2.drawMatches(img1, kp1, img2, kp2, for_draw_matches, None, flags=cv2.DrawMatchesFlags_NOT_DRAW_SINGLE_POINTS)\n",
    "\n",
    "        \n",
    "        # img1_with_keypoints = cv2.resize(img1_with_keypoints,\\\n",
    "        #                                  (img1_with_keypoints.shape[1]//2,\\\n",
    "        #                                   img1_with_keypoints.shape[0]//2))\n",
    "        # img2_with_keypoints = cv2.resize(img2_with_keypoints, \\\n",
    "        #                                 (img2_with_keypoints.shape[1]//2,\\\n",
    "        #                                 img2_with_keypoints.shape[0]//2))\n",
    "        # img_matches = cv2.resize(img_matches,\\\n",
    "        #                          (img_matches.shape[1]//2,\\\n",
    "        #                          img_matches.shape[0]//2))\n",
    "\n",
    "        \n",
    "        # cv2.imshow('keypoints1', img1_with_keypoints)\n",
    "        # cv2.imshow('keypoints2', img2_with_keypoints)\n",
    "        # cv2.imshow('draw mathces', img_matches)\n",
    "        # cv2.waitKey(0)\n",
    "\n",
    "    # Соритируем так по количеству дитекторов вроде\n",
    "    correct_matches_dct = dict(sorted(correct_matches_dct.items(), key=lambda item: item[1], reverse=True))\n",
    "\n",
    "    # Возращаем нулевое, из индексса\n",
    "    return list(correct_matches_dct.keys())[0]"
   ]
  },
  {
   "cell_type": "code",
   "execution_count": 4,
   "id": "b7ab3ddd-778c-409f-a4c1-3bf122e89e04",
   "metadata": {},
   "outputs": [],
   "source": [
    "# Нахождение название карты\n",
    "# cards_location = find_coordinates_of_cards(contours, gray_main_image)"
   ]
  },
  {
   "cell_type": "code",
   "execution_count": 5,
   "id": "5b7b7a16-eebd-4ad4-bd41-8943761ec3d3",
   "metadata": {},
   "outputs": [],
   "source": [
    "# Функция для нахождения контуров карт\n",
    "def find_contours_of_cards(image):\n",
    "\n",
    "    blurred = cv2.GaussianBlur(image, (3, 3), 0)\n",
    "    T, thresh_img = cv2.threshold(blurred, 215, 255, \n",
    "                                  cv2.THRESH_BINARY)\n",
    "\n",
    "    # Поиск контуров осуществляется с помощью метода findContours(), где в качестве первого\n",
    "    # аргумента эта функция принимает изображение, вторым — это тип контуров, который мы хотим извлечь.\n",
    "    # Я использую cv2.RETR_EXTERNAL для извлечения только внешних контуров. К примеру, для того,\n",
    "    # чтобы извлечь все контуры используют cv2.RETR_LIST, а последний параметром мы указываем метод аппроксимации контура.\n",
    "    # Мы используем cv2.CHAIN_APPROX_SIMPLE, указывая на то, что все лишние точки будут удалены, тем самым экономя память.\n",
    "    # Например, если вы нашли контур прямой линии, то разве вам нужны все точки этой линии, чтобы представить эту линию? Нет,\n",
    "    # нам нужны только две конечные точки этой линии. Это как раз то, что и делает cv2.CHAIN_APPROX_SIMPLE.\n",
    "    cnts, hir = cv2.findContours(thresh_img, \n",
    "                                cv2.RETR_EXTERNAL,\n",
    "                                cv2.CHAIN_APPROX_SIMPLE)\n",
    "    return cnts"
   ]
  },
  {
   "cell_type": "code",
   "execution_count": 6,
   "id": "2506fa61-6507-4fe6-8dfa-113c6f7609e4",
   "metadata": {},
   "outputs": [],
   "source": [
    "# Данная функция принимает контуры, которые мы нашли в предыдущей функции, а также основное изображение в оттенках серого.\n",
    "def find_coordinates_of_cards(cnts, image):\n",
    "    # Словарь в котором будут: ключ - название. значений - координаты\n",
    "    cards_coordinates = {}\n",
    "    \n",
    "    for i in range(0, len(cnts)):\n",
    "        # boundingRect - берет коориднаты контура и выдает прямоугольник который описывает эти контуры.\n",
    "        x, y, w, h = cv2.boundingRect(cnts[i]) \n",
    "\n",
    "        # Исключаем ненужные контуры, так как нам нужна контуры площадь которых не близка к нулю условно.\n",
    "        if w > 20 and h > 30: \n",
    "            # Выбираем необходимый нам прямоугольник, в котором будет место нужной нам карты\n",
    "            img_crop = image[y - 15:y + h + 15,x - 15:x + w + 15]\n",
    "\n",
    "            # Наша функция find_features которая опираясь на ключевые точки, возвращает нам название вырезанной карты.\n",
    "            cards_name = find_features(img_crop)# [2:]\n",
    "\n",
    "            # После этого добавляем всё в словарь.\n",
    "            cards_coordinates[cards_name] = (x - 15, y - 15, x + w + 15, y + h + 15)\n",
    "\n",
    "    # Соотвественно возращаем словарь\n",
    "    return cards_coordinates"
   ]
  },
  {
   "cell_type": "code",
   "execution_count": 7,
   "id": "e682d462-b8cf-4935-bf7c-2113fe4f647a",
   "metadata": {},
   "outputs": [],
   "source": [
    "# И вслед за этим рисуем прямоугольник вокруг карты с помощью функции\n",
    "def draw_rectangle_aroud_cards(cards_coordinates, image):\n",
    "    for key, value in cards_coordinates.items():\n",
    "        rec = cv2.rectangle(image, (value[0], value[1]), \n",
    "                            (value[2], value[3]), \n",
    "                            (255, 255, 0), 2)\n",
    "        cv2.putText(rec, key, (value[0], value[1] - 10), \n",
    "                    cv2.FONT_HERSHEY_SIMPLEX, \n",
    "                    0.5, (36, 255, 12), 1)\n",
    "    # return image\n",
    "    cv2.imshow('Image', image)\n",
    "    cv2.waitKey(0)"
   ]
  },
  {
   "cell_type": "code",
   "execution_count": null,
   "id": "4c9260af-2fed-4b73-8000-365c010472ca",
   "metadata": {
    "scrolled": true
   },
   "outputs": [],
   "source": []
  },
  {
   "cell_type": "code",
   "execution_count": null,
   "id": "5ba00388-2ede-439b-8aec-b62f1fbeeadb",
   "metadata": {
    "scrolled": true
   },
   "outputs": [],
   "source": [
    "main_image = cv2.imread('images//more_cards1.jpg')\n",
    "\n",
    "# Меняем его цветовую палитру\n",
    "gray_main_image = cv2.cvtColor(main_image, cv2.COLOR_BGR2GRAY)\n",
    "\n",
    "# Находим конутры и возращаем их\n",
    "contours = find_contours_of_cards(gray_main_image)\n",
    "\n",
    "# Нахождение название карты\n",
    "cards_location = find_coordinates_of_cards(contours, gray_main_image)\n",
    "\n",
    "# Рисование вокруг карты его название прямоугольника\n",
    "draw_rectangle_aroud_cards(cards_location, main_image)"
   ]
  },
  {
   "cell_type": "code",
   "execution_count": null,
   "id": "9b191afd-1d80-4c03-9081-beb2dd72a87f",
   "metadata": {},
   "outputs": [],
   "source": []
  },
  {
   "cell_type": "code",
   "execution_count": null,
   "id": "050a7a47-96a1-4cbc-bcdf-22cfb49b3dbb",
   "metadata": {},
   "outputs": [],
   "source": []
  },
  {
   "cell_type": "code",
   "execution_count": null,
   "id": "a6de48f0-aa82-4a0d-b658-2b32a61f9d5e",
   "metadata": {},
   "outputs": [],
   "source": []
  },
  {
   "cell_type": "code",
   "execution_count": null,
   "id": "3d831b6d-4816-4b33-8db6-581f96830425",
   "metadata": {},
   "outputs": [],
   "source": []
  },
  {
   "cell_type": "code",
   "execution_count": null,
   "id": "8530fad3-d7d2-4c1d-ba81-e2fa2629e52a",
   "metadata": {},
   "outputs": [],
   "source": []
  },
  {
   "cell_type": "code",
   "execution_count": null,
   "id": "b5de9e93-15a3-4d70-9066-6e598391fe8d",
   "metadata": {},
   "outputs": [],
   "source": []
  },
  {
   "cell_type": "code",
   "execution_count": null,
   "id": "197ef252-95c0-481c-9ea4-1514b634594e",
   "metadata": {},
   "outputs": [],
   "source": []
  },
  {
   "cell_type": "code",
   "execution_count": null,
   "id": "eb7a4cd2-6386-42ed-ba1e-f7f3ce4d9da2",
   "metadata": {},
   "outputs": [],
   "source": []
  },
  {
   "cell_type": "code",
   "execution_count": null,
   "id": "b8617993-f50f-4a9f-b2a1-889eccb33266",
   "metadata": {},
   "outputs": [],
   "source": []
  },
  {
   "cell_type": "code",
   "execution_count": null,
   "id": "2507892f-131a-4727-bbeb-b4fbb70f1db1",
   "metadata": {},
   "outputs": [],
   "source": []
  },
  {
   "cell_type": "code",
   "execution_count": null,
   "id": "99572de8-7241-44bf-91cd-dfeab0dbf5bb",
   "metadata": {},
   "outputs": [],
   "source": []
  },
  {
   "cell_type": "code",
   "execution_count": null,
   "id": "d6830783-4242-4946-9dd3-5b2ec42ea091",
   "metadata": {},
   "outputs": [],
   "source": []
  },
  {
   "cell_type": "code",
   "execution_count": 26,
   "id": "e3401247-04d5-4524-a2f2-8a028f43ec52",
   "metadata": {},
   "outputs": [
    {
     "ename": "KeyboardInterrupt",
     "evalue": "",
     "output_type": "error",
     "traceback": [
      "\u001b[1;31m---------------------------------------------------------------------------\u001b[0m",
      "\u001b[1;31mKeyboardInterrupt\u001b[0m                         Traceback (most recent call last)",
      "Cell \u001b[1;32mIn[26], line 15\u001b[0m\n\u001b[0;32m     12\u001b[0m contours \u001b[38;5;241m=\u001b[39m find_contours_of_cards(gray_main_image)\n\u001b[0;32m     14\u001b[0m \u001b[38;5;66;03m# Нахождение название карты\u001b[39;00m\n\u001b[1;32m---> 15\u001b[0m cards_location \u001b[38;5;241m=\u001b[39m \u001b[43mfind_coordinates_of_cards\u001b[49m\u001b[43m(\u001b[49m\u001b[43mcontours\u001b[49m\u001b[43m,\u001b[49m\u001b[43m \u001b[49m\u001b[43mgray_main_image\u001b[49m\u001b[43m)\u001b[49m\n\u001b[0;32m     17\u001b[0m \u001b[38;5;66;03m# Рисование вокруг карты его название прямоугольника\u001b[39;00m\n\u001b[0;32m     18\u001b[0m result_image \u001b[38;5;241m=\u001b[39m draw_rectangle_aroud_cards(cards_location, image)\n",
      "Cell \u001b[1;32mIn[22], line 16\u001b[0m, in \u001b[0;36mfind_coordinates_of_cards\u001b[1;34m(cnts, image)\u001b[0m\n\u001b[0;32m     13\u001b[0m img_crop \u001b[38;5;241m=\u001b[39m image[y \u001b[38;5;241m-\u001b[39m \u001b[38;5;241m15\u001b[39m:y \u001b[38;5;241m+\u001b[39m h \u001b[38;5;241m+\u001b[39m \u001b[38;5;241m15\u001b[39m,x \u001b[38;5;241m-\u001b[39m \u001b[38;5;241m15\u001b[39m:x \u001b[38;5;241m+\u001b[39m w \u001b[38;5;241m+\u001b[39m \u001b[38;5;241m15\u001b[39m]\n\u001b[0;32m     15\u001b[0m \u001b[38;5;66;03m# Наша функция find_features которая опираясь на ключевые точки, возвращает нам название вырезанной карты.\u001b[39;00m\n\u001b[1;32m---> 16\u001b[0m cards_name \u001b[38;5;241m=\u001b[39m \u001b[43mfind_features\u001b[49m\u001b[43m(\u001b[49m\u001b[43mimg_crop\u001b[49m\u001b[43m)\u001b[49m\n\u001b[0;32m     18\u001b[0m \u001b[38;5;66;03m# После этого добавляем всё в словарь.\u001b[39;00m\n\u001b[0;32m     19\u001b[0m cards_coordinates[cards_name] \u001b[38;5;241m=\u001b[39m (x \u001b[38;5;241m-\u001b[39m \u001b[38;5;241m15\u001b[39m, y \u001b[38;5;241m-\u001b[39m \u001b[38;5;241m15\u001b[39m, x \u001b[38;5;241m+\u001b[39m w \u001b[38;5;241m+\u001b[39m \u001b[38;5;241m15\u001b[39m, y \u001b[38;5;241m+\u001b[39m h \u001b[38;5;241m+\u001b[39m \u001b[38;5;241m15\u001b[39m)\n",
      "Cell \u001b[1;32mIn[25], line 27\u001b[0m, in \u001b[0;36mfind_features\u001b[1;34m(img1)\u001b[0m\n\u001b[0;32m     25\u001b[0m cv2\u001b[38;5;241m.\u001b[39mimshow(\u001b[38;5;124m'\u001b[39m\u001b[38;5;124mkeypoints1\u001b[39m\u001b[38;5;124m'\u001b[39m, img1_with_keypoints)\n\u001b[0;32m     26\u001b[0m cv2\u001b[38;5;241m.\u001b[39mimshow(\u001b[38;5;124m'\u001b[39m\u001b[38;5;124mkeypoints2\u001b[39m\u001b[38;5;124m'\u001b[39m, img2_with_keypoints)\n\u001b[1;32m---> 27\u001b[0m \u001b[43mcv2\u001b[49m\u001b[38;5;241;43m.\u001b[39;49m\u001b[43mwaitKey\u001b[49m\u001b[43m(\u001b[49m\u001b[38;5;241;43m0\u001b[39;49m\u001b[43m)\u001b[49m\n\u001b[0;32m     29\u001b[0m bf \u001b[38;5;241m=\u001b[39m cv2\u001b[38;5;241m.\u001b[39mBFMatcher()\n\u001b[0;32m     30\u001b[0m matches \u001b[38;5;241m=\u001b[39m bf\u001b[38;5;241m.\u001b[39mknnMatch(des1, des2, k\u001b[38;5;241m=\u001b[39m\u001b[38;5;241m2\u001b[39m)\n",
      "\u001b[1;31mKeyboardInterrupt\u001b[0m: "
     ]
    }
   ],
   "source": []
  },
  {
   "cell_type": "code",
   "execution_count": null,
   "id": "6471d4d5-37ee-4192-9591-a727f2298e92",
   "metadata": {},
   "outputs": [],
   "source": []
  },
  {
   "cell_type": "code",
   "execution_count": null,
   "id": "a890878f-c7ed-490a-8a81-c92b5831f60c",
   "metadata": {},
   "outputs": [],
   "source": []
  },
  {
   "cell_type": "code",
   "execution_count": null,
   "id": "d50542c7-a990-41c8-a6c0-498e86a7c4cc",
   "metadata": {},
   "outputs": [],
   "source": []
  }
 ],
 "metadata": {
  "kernelspec": {
   "display_name": "Python 3 (ipykernel)",
   "language": "python",
   "name": "python3"
  },
  "language_info": {
   "codemirror_mode": {
    "name": "ipython",
    "version": 3
   },
   "file_extension": ".py",
   "mimetype": "text/x-python",
   "name": "python",
   "nbconvert_exporter": "python",
   "pygments_lexer": "ipython3",
   "version": "3.10.13"
  }
 },
 "nbformat": 4,
 "nbformat_minor": 5
}
